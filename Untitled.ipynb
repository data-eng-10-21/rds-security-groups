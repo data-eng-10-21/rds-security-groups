{
 "cells": [
  {
   "cell_type": "code",
   "execution_count": null,
   "id": "parental-arbor",
   "metadata": {},
   "outputs": [],
   "source": []
  },
  {
   "cell_type": "code",
   "execution_count": null,
   "id": "severe-corpus",
   "metadata": {},
   "outputs": [],
   "source": [
    "1. # tell me the url that a client requests to list all the users\n",
    "a) all users\n",
    "\n",
    "# src/__init__.py -> controller\n",
    "\n",
    "@app.route('/users')\n",
    "def users():\n",
    "    users = db.find_all(User, cursor)\n",
    "    # SELECT * FROM users;\n",
    "#     [user.to_json() for user in users]\n",
    "    users_json = [user.__dict__ for user in users]\n",
    "    users_json = [{'id': 1, 'name': 'bart', purchases: [{'', }]}, {'id': 2, 'name': 'lisa'}]\n",
    "    # return json.dumps(users_json)\n",
    "# users/12\n",
    "@app.route('users/<id >')\n",
    "def user(id):\n",
    "    cursor = conn.cursor()\n",
    "    user = db.find(id, User, cursor)\n",
    "#   query = \"SELECT * FROM users where id = %s\"\n",
    "#.  cursor.execute(query, id)\n",
    "@app.route('/teams/<id>/players')\n",
    "def team_players(id):\n",
    "    SELECT * FROM players where team_id = %s\n",
    "# hits something\n",
    "# def foo_bar\n",
    "    # if you can fill out the function\n",
    "    # also, what is the SQL call\n",
    "    # return \n",
    "    \n",
    "\n",
    "b)  a particular user\n",
    "/something\n",
    "\n",
    "# what file, what do we call this ()\n",
    "# hits something\n",
    "# def foo_bar\n",
    "    # if you can fill out the function\n",
    "    # also, what is the SQL call\n",
    "    # return \n",
    "    \n",
    "# web layer (ip address, load balancers)    \n",
    "# application/service layer (flask application) [], []\n",
    "# data layer (postgres)"
   ]
  }
 ],
 "metadata": {
  "kernelspec": {
   "display_name": "Python 3",
   "language": "python",
   "name": "python3"
  },
  "language_info": {
   "codemirror_mode": {
    "name": "ipython",
    "version": 3
   },
   "file_extension": ".py",
   "mimetype": "text/x-python",
   "name": "python",
   "nbconvert_exporter": "python",
   "pygments_lexer": "ipython3",
   "version": "3.8.6"
  }
 },
 "nbformat": 4,
 "nbformat_minor": 5
}
